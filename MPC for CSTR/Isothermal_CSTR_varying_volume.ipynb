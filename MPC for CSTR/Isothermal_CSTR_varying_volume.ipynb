{
 "cells": [
  {
   "cell_type": "code",
   "execution_count": 1,
   "metadata": {},
   "outputs": [],
   "source": [
    "from pyomo.environ import *\n",
    "from pyomo.dae import *\n",
    "import math\n",
    "import matplotlib.pyplot as plt\n",
    "import numpy as np"
   ]
  },
  {
   "cell_type": "code",
   "execution_count": 2,
   "metadata": {},
   "outputs": [],
   "source": [
    "def get_model_variable_volume(xss={},uss={},ucon={},xinit = 0.3,uinit=200):\n",
    "    # The dynamic model is \n",
    "    # dc/dt = uin(t) cin - uout(t) c(t) ) / V(t) - 2 * c(t)^3\n",
    "    # dV/dt = uin(t)-uout(t)\n",
    "    # c is the concentration, uin, uout are the inlet and outlet flowrate, V the volume, 2 is the reaction constant\n",
    "    m = ConcreteModel()\n",
    "    m.t = ContinuousSet(bounds=(0,10))\n",
    "\n",
    "    m.V = Var(m.t, bounds = (20,100)) # volume\n",
    "    m.c = Var(m.t, bounds = (0,1))    # concentration\n",
    "    m.uin = Var(m.t, bounds = (0,800)) # inlet floweate\n",
    "    m.uout = Var(m.t, bounds = (0,800)) # outlet flowrate\n",
    "\n",
    "    m.dc = DerivativeVar(m.c, wrt=m.t) # dc/dt\n",
    "    m.dV = DerivativeVar(m.V, wrt=m.t) # dV/dt\n",
    "    m.duin = DerivativeVar(m.uin, wrt=m.t, bounds = (None,None)) # duin/dt\n",
    "    m.duout = DerivativeVar(m.uout, wrt=m.t, bounds = (None,None)) # duout/dt\n",
    "\n",
    "    m.ode = Constraint(m.t, rule = lambda m,t: m.dc[t]==(m.uin[t]- m.uout[t]*m.c[t])/m.V[t] - 2*m.c[t]**3) \n",
    "    m.odeV = Constraint(m.t, rule = lambda m,t: m.dV[t]==m.uin[t] - m.uout[t])\n",
    "\n",
    "    # discretize differential equations\n",
    "    discretizer = TransformationFactory('dae.finite_difference')\n",
    "    discretizer.apply_to(m,nfe=50,wrt=m.t,scheme='BACKWARD')\n",
    "\n",
    "    # m.c[0].fix(xinit)\n",
    "    # m.u[0].fix(uinit)\n",
    "\n",
    "    # limits on how fast the flowrates can change\n",
    "    m.der_u = Constraint(m.t, rule = lambda m,t: m.duin[t] <= 20)\n",
    "    m.der_l = Constraint(m.t, rule = lambda m,t: m.duin[t] >= -20)\n",
    "\n",
    "    m.der_u2 = Constraint(m.t, rule = lambda m,t: m.duout[t] <= 20)\n",
    "    m.der_l2 = Constraint(m.t, rule = lambda m,t: m.duout[t] >= -20)\n",
    "    \n",
    "\n",
    "    p = {}\n",
    "    time_ = [t for t in m.t]\n",
    "    for t in m.t:\n",
    "        k_ = list(xss.keys())\n",
    "        v_ = list(xss.values())\n",
    "    \n",
    "        diff = [(t-i)**2 for i in xss.keys()]\n",
    "        idx = np.argmin(diff)\n",
    "\n",
    "        p[t] = v_[idx]\n",
    "        \n",
    "    def _intX(m,t):\n",
    "        # return (m.c[t] - xss[math.ceil(t)])**2\n",
    "        return (m.c[t] - p[t])**2\n",
    "    m.intX = Integral(m.t,wrt=m.t,rule=_intX)\n",
    "\n",
    "    def _obj(m):\n",
    "        return m.intX\n",
    "    m.obj = Objective(rule=_obj)\n",
    "    # m.obj = Objective(expr = sum( (m.c[t] - xss[math.ceil(t)])**2 for t in m.t), sense=minimize)\n",
    "    return m,p\n",
    "    "
   ]
  },
  {
   "cell_type": "code",
   "execution_count": 4,
   "metadata": {},
   "outputs": [
    {
     "name": "stderr",
     "output_type": "stream",
     "text": [
      "/Users/ilias/Library/Python/3.9/lib/python/site-packages/urllib3/__init__.py:35: NotOpenSSLWarning: urllib3 v2 only supports OpenSSL 1.1.1+, currently the 'ssl' module is compiled with 'LibreSSL 2.8.3'. See: https://github.com/urllib3/urllib3/issues/3020\n",
      "  warnings.warn(\n",
      "Using backend: tensorflow.compat.v1\n",
      "Other supported backends: tensorflow, pytorch, jax, paddle.\n",
      "paddle supports more examples now and is recommended.\n"
     ]
    },
    {
     "name": "stdout",
     "output_type": "stream",
     "text": [
      "WARNING:tensorflow:From /Users/ilias/Library/Python/3.9/lib/python/site-packages/tensorflow/python/compat/v2_compat.py:98: disable_resource_variables (from tensorflow.python.ops.resource_variables_toggle) is deprecated and will be removed in a future version.\n",
      "Instructions for updating:\n",
      "non-resource variables are not supported in the long term\n"
     ]
    }
   ],
   "source": [
    "import deepxde as dde"
   ]
  },
  {
   "cell_type": "code",
   "execution_count": 12,
   "metadata": {},
   "outputs": [],
   "source": [
    "import random\n",
    "# generate a random production target\n",
    "space = dde.data.GRF(T=10, kernel = 'RBF', length_scale=2)\n",
    "feats = -space.random(1)\n",
    "xs = np.linspace(0, 10, num=51)[:, None] # - time \n",
    "y = 0.5 + 0.1* space.eval_batch(feats, xs) # - production target\n",
    "xss = {}\n",
    "for j in range(len(xs)):\n",
    "    xss[xs[j][0]] = y[0][j]\n",
    "uss = {}\n",
    "x0_ = 0.2 #np.random.uniform(0,1,1)[0]\n",
    "u0 = 250 #np.random.uniform(200,1500,1)[0]\n",
    "ucon = 100\n",
    "m,p = get_model_variable_volume(xss,uss,ucon, x0_,u0)\n"
   ]
  },
  {
   "cell_type": "code",
   "execution_count": 19,
   "metadata": {},
   "outputs": [
    {
     "data": {
      "text/plain": [
       "Text(0, 0.5, 'Concentration')"
      ]
     },
     "execution_count": 19,
     "metadata": {},
     "output_type": "execute_result"
    },
    {
     "data": {
      "image/png": "[encoded data removed]",
      "text/plain": [
       "<Figure size 640x480 with 1 Axes>"
      ]
     },
     "metadata": {},
     "output_type": "display_data"
    }
   ],
   "source": [
    "plt.title('Production target')\n",
    "plt.plot([t for t in m.t], p.values())\n",
    "plt.xlabel('Time')\n",
    "plt.ylabel('Concentration')"
   ]
  },
  {
   "cell_type": "markdown",
   "metadata": {},
   "source": [
    "Solve the model with IPOPT"
   ]
  },
  {
   "cell_type": "code",
   "execution_count": null,
   "metadata": {},
   "outputs": [],
   "source": [
    "solver = SolverFactory('ipopt')\n",
    "res = solver.solve(m,tee=False)\n",
    "# store the results\n",
    "t_ = [t for t in m.t]\n",
    "V_sol = [m.V[t]() for t in m.t]\n",
    "uin_sol = [m.uin[t]() for t in m.t]\n",
    "uout_sol = [m.uout[t]() for t in m.t]\n",
    "c_sol = [m.c[t]() for t in m.t]"
   ]
  },
  {
   "cell_type": "code",
   "execution_count": null,
   "metadata": {},
   "outputs": [],
   "source": [
    "plt.plot(t_, V_sol)"
   ]
  }
 ],
 "metadata": {
  "kernelspec": {
   "display_name": "Python 3",
   "language": "python",
   "name": "python3"
  },
  "language_info": {
   "codemirror_mode": {
    "name": "ipython",
    "version": 3
   },
   "file_extension": ".py",
   "mimetype": "text/x-python",
   "name": "python",
   "nbconvert_exporter": "python",
   "pygments_lexer": "ipython3",
   "version": "3.9.6"
  }
 },
 "nbformat": 4,
 "nbformat_minor": 2
}
